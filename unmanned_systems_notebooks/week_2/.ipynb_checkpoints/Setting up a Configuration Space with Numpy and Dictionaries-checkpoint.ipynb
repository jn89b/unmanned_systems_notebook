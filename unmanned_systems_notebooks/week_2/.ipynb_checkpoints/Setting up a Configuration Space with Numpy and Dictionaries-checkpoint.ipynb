{
 "cells": [
  {
   "cell_type": "markdown",
   "id": "d757e632",
   "metadata": {},
   "source": [
    "# Configuration Space\n",
    "\n",
    "Recall that a configuration space is a transformation of the robot/agent into a \"point\" location of where the robot is at. We can define this configuration space in Python by using the numpy to define the size of the grid. \n",
    "\n",
    "For this let's make a configuration space of 10 x 10"
   ]
  },
  {
   "cell_type": "code",
   "execution_count": 2,
   "id": "0e9dcd26",
   "metadata": {},
   "outputs": [
    {
     "name": "stdout",
     "output_type": "stream",
     "text": [
      "array([[0., 0., 0., 0., 0., 0., 0., 0., 0., 0.],\n",
      "       [0., 0., 0., 0., 0., 0., 0., 0., 0., 0.],\n",
      "       [0., 0., 0., 0., 0., 0., 0., 0., 0., 0.],\n",
      "       [0., 0., 0., 0., 0., 0., 0., 0., 0., 0.],\n",
      "       [0., 0., 0., 0., 0., 0., 0., 0., 0., 0.],\n",
      "       [0., 0., 0., 0., 0., 0., 0., 0., 0., 0.],\n",
      "       [0., 0., 0., 0., 0., 0., 0., 0., 0., 0.],\n",
      "       [0., 0., 0., 0., 0., 0., 0., 0., 0., 0.],\n",
      "       [0., 0., 0., 0., 0., 0., 0., 0., 0., 0.],\n",
      "       [0., 0., 0., 0., 0., 0., 0., 0., 0., 0.]])\n"
     ]
    }
   ],
   "source": [
    "import numpy as np\n",
    "from pprint import pprint\n",
    "\n",
    "if __name__== '__main__':\n",
    "    \n",
    "    size_x = 10\n",
    "    size_y = 10\n",
    "    config_space = []\n",
    "    config_space = np.zeros((size_x, size_y))\n",
    "    pprint(config_space) "
   ]
  },
  {
   "cell_type": "markdown",
   "id": "d9973b1f",
   "metadata": {},
   "source": [
    "## Adding Things to Configuration Space\n",
    "As you can see you should a 10 x 10 array, now let's be a little fancy. We know from class that in a configuration space we will have obstacles. So how can we add them in? We do this by simply indexing through whatever array and add the obstacle accordingly.\n",
    "\n",
    "To define an obstacle we can simply insert some value that determines the obstacle. For this case let's use the 1 as obstacle.\n",
    "For this case let's add an obstacle at coordinate [5,5] and [7,5]."
   ]
  },
  {
   "cell_type": "code",
   "execution_count": 5,
   "id": "11cdfcb9",
   "metadata": {},
   "outputs": [
    {
     "name": "stdout",
     "output_type": "stream",
     "text": [
      "there is an obstacle 1.0 at location [5, 5]\n",
      "there is an obstacle 1.0 at location [7, 5]\n"
     ]
    }
   ],
   "source": [
    "#define the obstacle\n",
    "obstacle_list = [[5,5],[7,5]]\n",
    "\n",
    "#append obstacles in config space\n",
    "obstacle_val = 1\n",
    "for obstacle in obstacle_list:\n",
    "    config_space[obstacle[0], obstacle[1]] = obstacle_val\n",
    "    \n",
    "#lets do a check to see if we have an obstacle in our config_space\n",
    "for obstacle in obstacle_list:\n",
    "    if config_space[obstacle[0], obstacle[1]] == obstacle_val:\n",
    "        print(\"there is an obstacle\", config_space[obstacle[0], obstacle[1]], \"at location\", obstacle)\n",
    "    else:\n",
    "        print(\"nope\")"
   ]
  },
  {
   "cell_type": "markdown",
   "id": "5994bf60",
   "metadata": {},
   "source": [
    "# What the Heck are Dictionaries?\n",
    "Dictionaries, in the Computer Science World are known as hashtables. Essentially each element of a dictionary has 2 things: The **Key** and the **Value** that pairs them together. In a real world aspect it is literally a dictionary with the keys as the letters and the words that associate it with the letters. \n",
    "\n",
    "## Why Should I use a dictionary, can't I use a list or an array?\n",
    "You could definitely use a list to search for things, but that gets very inefficient especially for large lists, this is O(n), where O is the operation and n is the length of the operations. With a dictionary if you have the key that refers to the value your search is O(1) always for whatever length. \n",
    "https://www.freecodecamp.org/news/all-you-need-to-know-about-big-o-notation-to-crack-your-next-coding-interview-9d575e7eec4/\n",
    "\n",
    "Let's run an example: \n",
    "Say you want to find the number 12345 in a data structure that has 15000 elements, which one will find it faster. "
   ]
  },
  {
   "cell_type": "code",
   "execution_count": 21,
   "id": "e65c6315",
   "metadata": {},
   "outputs": [
    {
     "name": "stdout",
     "output_type": "stream",
     "text": [
      "303 µs ± 12.1 µs per loop (mean ± std. dev. of 7 runs, 1000 loops each)\n"
     ]
    }
   ],
   "source": [
    "\"\"\"Search with List\"\"\"\n",
    "search_number = 12345\n",
    "search_list = list(range(0, 15000)) \n",
    "\n",
    "#search_dict = {i:i for i in search_list} \n",
    "\n",
    "def begin_search_list(search_list, search_val):\n",
    "    for val in search_list:\n",
    "        if val == search_number:\n",
    "            return True\n",
    "\n",
    "\n",
    "%timeit begin_search_list(search_list, search_number)"
   ]
  },
  {
   "cell_type": "code",
   "execution_count": null,
   "id": "9bb679b8",
   "metadata": {},
   "outputs": [],
   "source": [
    "\"\"\"Search with dictionary\"\"\"\n",
    "search_dict = {i:i for i in search_list} \n",
    "\n",
    "def begin_search_dict(search_dict, search_val):\n",
    "    return search_dict[search_val]\n",
    "\n",
    "%timeit begin_search_dict(search_dict, search_number)"
   ]
  }
 ],
 "metadata": {
  "kernelspec": {
   "display_name": "Python 3 (ipykernel)",
   "language": "python",
   "name": "python3"
  },
  "language_info": {
   "codemirror_mode": {
    "name": "ipython",
    "version": 3
   },
   "file_extension": ".py",
   "mimetype": "text/x-python",
   "name": "python",
   "nbconvert_exporter": "python",
   "pygments_lexer": "ipython3",
   "version": "3.8.8"
  }
 },
 "nbformat": 4,
 "nbformat_minor": 5
}
