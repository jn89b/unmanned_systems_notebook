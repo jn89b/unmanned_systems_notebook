{
 "cells": [
  {
   "cell_type": "markdown",
   "id": "7657a109",
   "metadata": {},
   "source": [
    "# This week we will go over the following:\n",
    "\n",
    "## Constructing for Loops with 3 Methods \n",
    "\n",
    "## Using a Dictionary \n",
    "\n",
    "## Condition Statements "
   ]
  },
  {
   "cell_type": "markdown",
   "id": "901d3279",
   "metadata": {},
   "source": [
    "## Constructing for Loops with 3 Methods \n",
    "\n",
    "In Python there are multiple ways to do do a for loop for the scope of this week. We will demonstrate 3 different ways that you can construct a for loop, keep in mind there are other methods but these will be enough for you to be dangerous with.\n",
    "\n"
   ]
  },
  {
   "cell_type": "code",
   "execution_count": 1,
   "id": "e070b452",
   "metadata": {},
   "outputs": [
    {
     "name": "stdout",
     "output_type": "stream",
     "text": [
      "Using Method 1:  0\n",
      "Using Method 1:  1\n",
      "Using Method 1:  2\n",
      "Using Method 1:  3\n",
      "Using Method 1:  4\n",
      "Using Method 1:  5\n",
      "Using Method 1:  6\n",
      "Using Method 1:  7\n",
      "Using Method 1:  8\n",
      "Using Method 1:  9\n",
      "Using Method 1:  10\n"
     ]
    }
   ],
   "source": [
    "## Method 1 -> Standard one accessing indeices\n",
    "import numpy as np \n",
    "\n",
    "x_list = np.arange(0,10+1,1)\n",
    "\n",
    "for i in range(len(x_list)):\n",
    "    print(\"Using Method 1: \", x_list[i])\n",
    "    "
   ]
  },
  {
   "cell_type": "code",
   "execution_count": 2,
   "id": "f5c6c69c",
   "metadata": {},
   "outputs": [
    {
     "name": "stdout",
     "output_type": "stream",
     "text": [
      "Using Method 2:  0\n",
      "Using Method 2:  1\n",
      "Using Method 2:  2\n",
      "Using Method 2:  3\n",
      "Using Method 2:  4\n",
      "Using Method 2:  5\n",
      "Using Method 2:  6\n",
      "Using Method 2:  7\n",
      "Using Method 2:  8\n",
      "Using Method 2:  9\n",
      "Using Method 2:  10\n"
     ]
    }
   ],
   "source": [
    "## Method 2 Accessing elements of list\n",
    "for x in x_list:\n",
    "    print(\"Using Method 2: \", x)"
   ]
  },
  {
   "cell_type": "code",
   "execution_count": 3,
   "id": "a6b66d98",
   "metadata": {},
   "outputs": [
    {
     "name": "stdout",
     "output_type": "stream",
     "text": [
      "Using Method 3: 0 5\n",
      "Using Method 3: 1 6\n",
      "Using Method 3: 2 7\n",
      "Using Method 3: 3 8\n",
      "Using Method 3: 4 9\n",
      "Using Method 3: 5 10\n",
      "Using Method 3: 6 11\n",
      "Using Method 3: 7 12\n",
      "Using Method 3: 8 13\n",
      "Using Method 3: 9 14\n",
      "Using Method 3: 10 15\n"
     ]
    }
   ],
   "source": [
    "## Method 3 accessing elemenets of list AND the index using ENUMERATE\n",
    "y_list = np.arange(5,15+1,1)\n",
    "for i,x in enumerate(x_list):\n",
    "    print(\"Using Method 3:\", x, y_list[i])"
   ]
  },
  {
   "cell_type": "markdown",
   "id": "316f3a47",
   "metadata": {},
   "source": [
    "## Using a Dictionary \n",
    "\n",
    "Recall that the biggest advantage of using a dictionary is the look up time is O(n), but how exactly do we use it? Recall from the last discussion that a dictionary consists of two things a **Key** and a **Value** that goes inside the key, it's basically a bookmark. Let's run an example:"
   ]
  },
  {
   "cell_type": "code",
   "execution_count": 4,
   "id": "5faa0166",
   "metadata": {},
   "outputs": [
    {
     "name": "stdout",
     "output_type": "stream",
     "text": [
      "Dictionary is {2: [2, 3]}\n",
      "retrieved value is [2, 3]\n",
      "no\n"
     ]
    }
   ],
   "source": [
    "## Initiaize a dictionary:\n",
    "some_dict = {} #another way to do this is dict()\n",
    "\n",
    "## Make a key and and value to insert inside the dictionary\n",
    "some_key = 2\n",
    "some_value = [2,3]\n",
    "\n",
    "#insert key and the value inside the dictionary\n",
    "some_dict[some_key] = some_value\n",
    "\n",
    "#print the key \n",
    "print(\"Dictionary is\", some_dict)\n",
    "\n",
    "##lets access the value \n",
    "retrieved_val = some_dict[some_key]\n",
    "print(\"retrieved value is\", some_dict[some_key])\n",
    "\n",
    "##check if key exists in the dictionary\n",
    "test_key = 3\n",
    "if test_key in some_dict:\n",
    "    print(\"yes\")\n",
    "else:\n",
    "    print(\"no\")\n",
    "    "
   ]
  },
  {
   "cell_type": "markdown",
   "id": "b25e1313",
   "metadata": {},
   "source": [
    "## Conditional Statements\n",
    "\n",
    "There's a lot of documentation about conditional statements in Python but for now we will talk about the **While** loop and using if conditional statements.\n",
    "\n",
    "For this example we will loop through the entire list and check if the value is a vowel, or if the value is 2. If so we will **break** from the while loop"
   ]
  },
  {
   "cell_type": "code",
   "execution_count": 7,
   "id": "04357eaf",
   "metadata": {},
   "outputs": [
    {
     "name": "stdout",
     "output_type": "stream",
     "text": [
      "value is b\n"
     ]
    }
   ],
   "source": [
    "some_list = [\"b\", 123, 2, \"e\", 4243, \"d\", \"u\"]\n",
    "\n",
    "vowel_list = [\"a\", \"e\", \"i\", \"o\", \"u\"]\n",
    "\n",
    "i = 0 \n",
    "\n",
    "while i < len(some_list):\n",
    "    print(\"value is\", some_list[i])\n",
    "    if some_list[i] in vowel_list or some_list[i] == 2:\n",
    "        print(\"yes\", some_list[i])\n",
    "        break\n",
    "    \n",
    "    i+=1"
   ]
  },
  {
   "cell_type": "markdown",
   "id": "09f3c667",
   "metadata": {},
   "source": [
    "Notice that with a break statement the while conditional loop will end, what if we want to iterate through the entire list? This is where the **continue** condition will be useful, let's run an example. "
   ]
  },
  {
   "cell_type": "code",
   "execution_count": null,
   "id": "b627b8eb",
   "metadata": {},
   "outputs": [],
   "source": [
    "some_list = [\"b\", 123, 2, \"e\", 4243, \"d\", \"u\"]\n",
    "\n",
    "vowel_list = [\"a\", \"e\", \"i\", \"o\", \"u\"]\n",
    "\n",
    "i = 0 \n",
    "\n",
    "while i < len(some_list):\n",
    "    print(\"value is\", some_list[i])\n",
    "    if some_list[i] in vowel_list or some_list[i] == 2:\n",
    "        print(\"yes\", some_list[i])\n",
    "        continue\n",
    "    "
   ]
  }
 ],
 "metadata": {
  "kernelspec": {
   "display_name": "Python 3 (ipykernel)",
   "language": "python",
   "name": "python3"
  },
  "language_info": {
   "codemirror_mode": {
    "name": "ipython",
    "version": 3
   },
   "file_extension": ".py",
   "mimetype": "text/x-python",
   "name": "python",
   "nbconvert_exporter": "python",
   "pygments_lexer": "ipython3",
   "version": "3.8.8"
  }
 },
 "nbformat": 4,
 "nbformat_minor": 5
}
